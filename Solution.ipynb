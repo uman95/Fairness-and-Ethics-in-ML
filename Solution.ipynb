{
 "cells": [
  {
   "cell_type": "code",
   "execution_count": 1,
   "metadata": {},
   "outputs": [],
   "source": [
    "import numpy as np\n",
    "import pandas as pd\n",
    "import torch\n",
    "import torch.nn as nn\n",
    "import torch.nn.functional as F\n",
    "from torch.utils.data import DataLoader, TensorDataset\n",
    "from tqdm import tqdm_notebook\n",
    "from IPython import display\n",
    "import matplotlib.pyplot as plt"
   ]
  },
  {
   "cell_type": "code",
   "execution_count": 2,
   "metadata": {},
   "outputs": [],
   "source": [
    "#Load data\n",
    "train = np.load('adult/adult_train.npz')\n",
    "test = np.load('adult/adult_test.npz')"
   ]
  },
  {
   "cell_type": "code",
   "execution_count": 3,
   "metadata": {},
   "outputs": [],
   "source": [
    "header = np.loadtxt('adult/adult_headers.txt', dtype=str)"
   ]
  },
  {
   "cell_type": "code",
   "execution_count": 4,
   "metadata": {},
   "outputs": [],
   "source": [
    "data_train_x = pd.DataFrame(data=train['x'], columns=header[:-1])\n",
    "data_train_y = pd.DataFrame(data=train['y'], columns= ['income'])\n",
    "data_train_a = pd.DataFrame(data=train['a'], columns=['gender'])"
   ]
  },
  {
   "cell_type": "code",
   "execution_count": 5,
   "metadata": {},
   "outputs": [],
   "source": [
    "data_test_x = pd.DataFrame(data=test['x'], columns=header[:-1])\n",
    "data_test_y = pd.DataFrame(data=test['y'], columns= ['income'])\n",
    "data_test_a = pd.DataFrame(data=test['a'], columns=['gender'])"
   ]
  },
  {
   "cell_type": "code",
   "execution_count": 6,
   "metadata": {},
   "outputs": [],
   "source": [
    "data_train = pd.concat([data_train_y, data_train_a, data_train_x], axis=1)"
   ]
  },
  {
   "cell_type": "code",
   "execution_count": 7,
   "metadata": {},
   "outputs": [],
   "source": [
    "data_test = pd.concat([data_test_y, data_test_a, data_test_x], axis=1)"
   ]
  },
  {
   "cell_type": "markdown",
   "metadata": {},
   "source": [
    "# Question 2"
   ]
  },
  {
   "cell_type": "markdown",
   "metadata": {},
   "source": [
    "## 1."
   ]
  },
  {
   "cell_type": "code",
   "execution_count": 8,
   "metadata": {
    "scrolled": true
   },
   "outputs": [
    {
     "data": {
      "text/plain": [
       "Index(['marital-status_Married-civ-spouse', 'relationship_Husband',\n",
       "       'education_num', 'marital-status_Never-married', 'age_u30',\n",
       "       'hours-per-week', 'relationship_Own-child', 'capital-gain',\n",
       "       'sex_Female', 'sex_Male'],\n",
       "      dtype='object')"
      ]
     },
     "execution_count": 8,
     "metadata": {},
     "output_type": "execute_result"
    }
   ],
   "source": [
    "## Ten most correlated features with Y\n",
    "corr_with_Y = data_train[data_train.columns.difference(['gender'])].corr()['income'].abs().nlargest(11).index[1:]\n",
    "corr_with_Y"
   ]
  },
  {
   "cell_type": "code",
   "execution_count": 9,
   "metadata": {},
   "outputs": [
    {
     "data": {
      "text/plain": [
       "Index(['sex_Female', 'sex_Male', 'relationship_Husband',\n",
       "       'marital-status_Married-civ-spouse', 'relationship_Unmarried',\n",
       "       'relationship_Wife', 'occupation_Adm-clerical', 'hours-per-week',\n",
       "       'marital-status_Divorced', 'occupation_Craft-repair'],\n",
       "      dtype='object')"
      ]
     },
     "execution_count": 9,
     "metadata": {},
     "output_type": "execute_result"
    }
   ],
   "source": [
    "## Ten most correlated features with A\n",
    "corr_with_A = data_train[data_train.columns.difference(['income'])].corr()['gender'].abs().nlargest(11).index[1:]\n",
    "corr_with_A"
   ]
  },
  {
   "cell_type": "markdown",
   "metadata": {},
   "source": [
    "## 2."
   ]
  },
  {
   "cell_type": "code",
   "execution_count": 10,
   "metadata": {},
   "outputs": [],
   "source": [
    "#Model definition\n",
    "class Classifier(nn.Module): \n",
    "  \n",
    "    def __init__(self, input_size, num_classes): \n",
    "        super(Classifier, self).__init__() \n",
    "        self.input_size = input_size\n",
    "        self.linear1 = nn.Linear(input_size, 100)\n",
    "        self.linear2 = nn.Linear(100, 100)\n",
    "        self.linear3 = nn.Linear(100, num_classes)\n",
    "                                \n",
    "    def forward(self, x): \n",
    "        x = F.relu(self.linear1(x))\n",
    "        x = F.relu(self.linear2(x))\n",
    "        x = self.linear3(x)\n",
    "        return x"
   ]
  },
  {
   "cell_type": "code",
   "execution_count": 11,
   "metadata": {},
   "outputs": [],
   "source": [
    "# Classifier, training and metrics\n",
    "class QuestionTwo():\n",
    "    def __init__(self, model, Data_train, Epoch, Criterion):\n",
    "        self.data_train = Data_train\n",
    "        self.epoch = Epoch\n",
    "        self.model = model\n",
    "        self.criterion = Criterion\n",
    "\n",
    "    def create_dataloader(self, Data, batch=32):\n",
    "        assert (type(Data) == pd.core.frame.DataFrame)\n",
    "        assert ('income' and 'gender' in Data.columns)\n",
    "        X = torch.from_numpy(Data[Data.columns.difference(['income', 'gender'])].values).float()\n",
    "        y = torch.from_numpy(Data['income'].values.ravel())\n",
    "        a = torch.from_numpy(Data['gender'].values.ravel())\n",
    "        \n",
    "        tensor_data = TensorDataset(X, y, a)\n",
    "        tensor_loader = DataLoader(tensor_data, batch_size=batch)\n",
    "        return tensor_loader\n",
    "        \n",
    "    def train(self):\n",
    "        train_loader = self.create_dataloader(self.data_train)\n",
    "        self.model.train()\n",
    "        for epoch in range(self.epoch):\n",
    "            for X, y, a in train_loader:\n",
    "                outputs = self.model(X)\n",
    "                loss = self.criterion(outputs.squeeze(), y.float())\n",
    "                #predicted = (outputs.squeeze() > 0.).long()\n",
    "                model.zero_grad()\n",
    "                loss.backward()\n",
    "                optimizer.step()\n",
    "            \n",
    "            display.clear_output(wait=True)\n",
    "            print(\" Epoch: %i / %i, loss = %.6f \" %((epoch+1), self.epoch, loss.item()))\n",
    "    def get_full_data(self, Data):\n",
    "        full_data = dict()\n",
    "        Data_new = Data.drop(['income','gender'], axis=1)\n",
    "        full_data['X'] = torch.from_numpy(Data_new.values)\n",
    "        full_data['y'] = torch.from_numpy(Data['income'].values)\n",
    "        full_data['a'] = torch.from_numpy(Data['gender'].values)\n",
    "        \n",
    "        return full_data\n",
    "    \n",
    "    def predict(self, Data):\n",
    "        data_loader = self.create_dataloader(Data)\n",
    "        self.model.eval()\n",
    "        predictions = []\n",
    "        for X, y, a in tqdm_notebook(data_loader):\n",
    "            outputs = self.model(X)\n",
    "            predictions.append((outputs.squeeze() > 0.).long())\n",
    "        return torch.cat(predictions, dim=0)\n",
    "    \n",
    "    def accuracy(self, Data, accuracy_of):\n",
    "        if accuracy_of not in ['y', 'a']:\n",
    "            raise Exception('Accuracy must be calculated for either y or a')\n",
    "        predict = self.predict(Data)\n",
    "        full_data = self.get_full_data(Data)\n",
    "        return predict.eq(full_data[accuracy_of].long()).float().sum().item() / predict.size(0)\n",
    "        \n",
    "    def reweighted_accuracy(self, Data, accuracy_of, according_to):\n",
    "        if accuracy_of not in ['y', 'a']:\n",
    "            raise Exception('Accuracy must be calculated for either y or a')\n",
    "        if according_to != 'a':\n",
    "            raise Exception('Accuracy must be calculated according to attribute a')\n",
    "        predict = self.predict(Data)\n",
    "        full_data = self.get_full_data(Data)\n",
    "        attribute = full_data[according_to].float()\n",
    "        target = full_data[accuracy_of]#.float()\n",
    "        compare = predict.eq(target.long()).float()\n",
    "        sens_attrib_0 = torch.where(attribute == 0., \\\n",
    "                                    compare, torch.zeros_like(attribute)).sum().item()\n",
    "        sens_attrib_1 = torch.where(attribute == 1., \\\n",
    "                                    compare, torch.zeros_like(attribute)).sum().item()\n",
    "        na_0 = (attribute == 0).sum().item()\n",
    "        na_1 = (attribute == 1).sum().item()\n",
    "        \n",
    "        return 0.5 * ( (sens_attrib_0 / na_0) + (sens_attrib_1 / na_1) )\n",
    "        \n",
    "    def fairness_metric(self, Data, groups=False):\n",
    "        predict = self.predict(Data)\n",
    "        full_data = self.get_full_data(Data)\n",
    "        attribute = full_data['a'].float()\n",
    "\n",
    "        rs = (predict * (1 - attribute.long())).sum().item()\n",
    "        ls = (predict * attribute.long()).sum().item()\n",
    "        na_0 = (attribute == 0).sum().item()\n",
    "        na_1 = (attribute == 1).sum().item()\n",
    "        if groups:\n",
    "            return (np.abs((rs / na_0) - (ls / na_1)), (rs / na_0), (ls / na_1))\n",
    "        else:\n",
    "            return np.abs((rs / na_0) - (ls / na_1))\n",
    "        "
   ]
  },
  {
   "cell_type": "code",
   "execution_count": 12,
   "metadata": {},
   "outputs": [],
   "source": [
    "Epoch = 200\n",
    "input_size = data_train[data_train.columns.difference(['income', 'gender'])].shape[1]\n",
    "output_size = 1"
   ]
  },
  {
   "cell_type": "code",
   "execution_count": 13,
   "metadata": {},
   "outputs": [],
   "source": [
    "criterion = nn.BCEWithLogitsLoss()\n",
    "model = Classifier(input_size, output_size)\n",
    "\n",
    "optimizer = torch.optim.SGD(model.parameters(), lr=3e-4)"
   ]
  },
  {
   "cell_type": "code",
   "execution_count": 14,
   "metadata": {},
   "outputs": [],
   "source": [
    "Neural_net = QuestionTwo(model, data_train, Epoch, criterion)"
   ]
  },
  {
   "cell_type": "code",
   "execution_count": 15,
   "metadata": {},
   "outputs": [
    {
     "name": "stdout",
     "output_type": "stream",
     "text": [
      " Epoch: 200 / 200, loss = 0.263846 \n"
     ]
    }
   ],
   "source": [
    "#Model training\n",
    "Neural_net.train()"
   ]
  },
  {
   "cell_type": "code",
   "execution_count": 16,
   "metadata": {},
   "outputs": [
    {
     "data": {
      "application/vnd.jupyter.widget-view+json": {
       "model_id": "f65727b9f7994c85b6fdf332e3bbee53",
       "version_major": 2,
       "version_minor": 0
      },
      "text/plain": [
       "HBox(children=(IntProgress(value=0, max=509), HTML(value='')))"
      ]
     },
     "metadata": {},
     "output_type": "display_data"
    },
    {
     "name": "stdout",
     "output_type": "stream",
     "text": [
      "\n"
     ]
    },
    {
     "data": {
      "text/plain": [
       "0.8398132792825993"
      ]
     },
     "execution_count": 16,
     "metadata": {},
     "output_type": "execute_result"
    }
   ],
   "source": [
    "# Test classification accuracy \n",
    "Neural_net.accuracy(data_test, accuracy_of='y')"
   ]
  },
  {
   "cell_type": "code",
   "execution_count": 17,
   "metadata": {},
   "outputs": [
    {
     "data": {
      "application/vnd.jupyter.widget-view+json": {
       "model_id": "4b5383d7d8d149f1bd6e300540b6c31e",
       "version_major": 2,
       "version_minor": 0
      },
      "text/plain": [
       "HBox(children=(IntProgress(value=0, max=509), HTML(value='')))"
      ]
     },
     "metadata": {},
     "output_type": "display_data"
    },
    {
     "name": "stdout",
     "output_type": "stream",
     "text": [
      "\n"
     ]
    },
    {
     "data": {
      "text/plain": [
       "0.14718227967562203"
      ]
     },
     "execution_count": 17,
     "metadata": {},
     "output_type": "execute_result"
    }
   ],
   "source": [
    "# Test disparity measure\n",
    "Neural_net.fairness_metric(data_test)"
   ]
  },
  {
   "cell_type": "markdown",
   "metadata": {},
   "source": [
    "Create uncorrelated dataset"
   ]
  },
  {
   "cell_type": "code",
   "execution_count": 18,
   "metadata": {},
   "outputs": [],
   "source": [
    "# Remove correlated features with A\n",
    "data_train_uncorr = data_train[data_train.columns.difference(corr_with_A)]\n",
    "data_test_uncorr = data_test[data_test.columns.difference(corr_with_A)]"
   ]
  },
  {
   "cell_type": "code",
   "execution_count": 19,
   "metadata": {},
   "outputs": [],
   "source": [
    "Epoch = 200\n",
    "input_size = data_train_uncorr[data_train_uncorr.columns.difference(['income', 'gender'])].shape[1]"
   ]
  },
  {
   "cell_type": "code",
   "execution_count": 20,
   "metadata": {},
   "outputs": [],
   "source": [
    "model = Classifier(input_size, output_size)\n",
    "optimizer = torch.optim.SGD(model.parameters(), lr=3e-4)\n",
    "Neural_net_corr = QuestionTwo(model, data_train_uncorr, Epoch, criterion)"
   ]
  },
  {
   "cell_type": "code",
   "execution_count": 21,
   "metadata": {},
   "outputs": [
    {
     "name": "stdout",
     "output_type": "stream",
     "text": [
      " Epoch: 200 / 200, loss = 0.275501 \n"
     ]
    }
   ],
   "source": [
    "# Model retraining\n",
    "Neural_net_corr.train()"
   ]
  },
  {
   "cell_type": "code",
   "execution_count": 22,
   "metadata": {
    "scrolled": true
   },
   "outputs": [
    {
     "data": {
      "application/vnd.jupyter.widget-view+json": {
       "model_id": "1851744847c942dca0b36f4f1d12bef9",
       "version_major": 2,
       "version_minor": 0
      },
      "text/plain": [
       "HBox(children=(IntProgress(value=0, max=509), HTML(value='')))"
      ]
     },
     "metadata": {},
     "output_type": "display_data"
    },
    {
     "name": "stdout",
     "output_type": "stream",
     "text": [
      "\n"
     ]
    },
    {
     "data": {
      "text/plain": [
       "0.8290645537743382"
      ]
     },
     "execution_count": 22,
     "metadata": {},
     "output_type": "execute_result"
    }
   ],
   "source": [
    "# Accuracy\n",
    "Neural_net_corr.accuracy(data_test_uncorr, accuracy_of='y')"
   ]
  },
  {
   "cell_type": "code",
   "execution_count": 23,
   "metadata": {},
   "outputs": [
    {
     "data": {
      "application/vnd.jupyter.widget-view+json": {
       "model_id": "759c562f6c0d45928147f99eedd09539",
       "version_major": 2,
       "version_minor": 0
      },
      "text/plain": [
       "HBox(children=(IntProgress(value=0, max=509), HTML(value='')))"
      ]
     },
     "metadata": {},
     "output_type": "display_data"
    },
    {
     "name": "stdout",
     "output_type": "stream",
     "text": [
      "\n"
     ]
    },
    {
     "data": {
      "text/plain": [
       "0.13424599037302246"
      ]
     },
     "execution_count": 23,
     "metadata": {},
     "output_type": "execute_result"
    }
   ],
   "source": [
    "# Disparity measure\n",
    "Neural_net_corr.fairness_metric(data_test_uncorr)"
   ]
  },
  {
   "cell_type": "code",
   "execution_count": 24,
   "metadata": {},
   "outputs": [
    {
     "data": {
      "application/vnd.jupyter.widget-view+json": {
       "model_id": "8aadac0eb85d49b59d533948cf448dd1",
       "version_major": 2,
       "version_minor": 0
      },
      "text/plain": [
       "HBox(children=(IntProgress(value=0, max=509), HTML(value='')))"
      ]
     },
     "metadata": {},
     "output_type": "display_data"
    },
    {
     "name": "stdout",
     "output_type": "stream",
     "text": [
      "\n"
     ]
    }
   ],
   "source": [
    "# measure on each sensitive group\n",
    "_, A0, A1 = Neural_net_corr.fairness_metric(data_test_uncorr, groups=True)"
   ]
  },
  {
   "cell_type": "code",
   "execution_count": 26,
   "metadata": {},
   "outputs": [
    {
     "name": "stdout",
     "output_type": "stream",
     "text": [
      " 0.1160302527209002 \n",
      " 0.25027624309392266\n"
     ]
    }
   ],
   "source": [
    "print('', A0, '\\n', A1)"
   ]
  },
  {
   "cell_type": "markdown",
   "metadata": {},
   "source": [
    "## 3"
   ]
  },
  {
   "cell_type": "code",
   "execution_count": 27,
   "metadata": {},
   "outputs": [
    {
     "data": {
      "application/vnd.jupyter.widget-view+json": {
       "model_id": "5442e99d9543407999f2979fa46352d3",
       "version_major": 2,
       "version_minor": 0
      },
      "text/plain": [
       "HBox(children=(IntProgress(value=0, max=509), HTML(value='')))"
      ]
     },
     "metadata": {},
     "output_type": "display_data"
    },
    {
     "name": "stdout",
     "output_type": "stream",
     "text": [
      "\n"
     ]
    }
   ],
   "source": [
    "yhat = Neural_net.predict(data_test)"
   ]
  },
  {
   "cell_type": "code",
   "execution_count": 28,
   "metadata": {
    "scrolled": true
   },
   "outputs": [
    {
     "data": {
      "text/plain": [
       "Index(['capital-loss', 'education_num', 'marital-status_Married-civ-spouse'], dtype='object')"
      ]
     },
     "execution_count": 28,
     "metadata": {},
     "output_type": "execute_result"
    }
   ],
   "source": [
    "corr_with_yhat = pd.concat([pd.DataFrame(yhat.data.numpy(), columns=['yhat']), data_test_x], axis=1).corr()['yhat'].abs().nlargest(4)\n",
    "corr_with_yhat.index[1:]"
   ]
  },
  {
   "cell_type": "code",
   "execution_count": 29,
   "metadata": {},
   "outputs": [],
   "source": [
    "Examples = pd.concat([pd.DataFrame(yhat.data.numpy(), columns=['yhat']), data_test_a, data_test_x], axis=1).groupby(['gender']).corr().abs()['yhat']"
   ]
  },
  {
   "cell_type": "code",
   "execution_count": 30,
   "metadata": {},
   "outputs": [
    {
     "data": {
      "text/plain": [
       "Index(['capital-loss', 'relationship_Wife',\n",
       "       'marital-status_Married-civ-spouse'],\n",
       "      dtype='object')"
      ]
     },
     "execution_count": 30,
     "metadata": {},
     "output_type": "execute_result"
    }
   ],
   "source": [
    "Examples_A0 = Examples.unstack().loc[0].nlargest(4)\n",
    "Examples_A0.index[1:]"
   ]
  },
  {
   "cell_type": "code",
   "execution_count": 31,
   "metadata": {},
   "outputs": [
    {
     "data": {
      "text/plain": [
       "Index(['education_num', 'capital-loss', 'relationship_Husband'], dtype='object')"
      ]
     },
     "execution_count": 31,
     "metadata": {},
     "output_type": "execute_result"
    }
   ],
   "source": [
    "Examples_A1 = Examples.unstack().loc[1].nlargest(4)\n",
    "Examples_A1.index[1:]"
   ]
  },
  {
   "cell_type": "markdown",
   "metadata": {},
   "source": [
    "## 4."
   ]
  },
  {
   "cell_type": "code",
   "execution_count": 32,
   "metadata": {},
   "outputs": [],
   "source": [
    "# sex_Male and sex_Female removed\n",
    "data_train_reduced = data_train[data_train.columns.difference(['sex_Male', 'sex_Female'])]\n",
    "data_test_reduced = data_test[data_test.columns.difference(['sex_Male', 'sex_Female'])]"
   ]
  },
  {
   "cell_type": "code",
   "execution_count": 33,
   "metadata": {},
   "outputs": [],
   "source": [
    "input_size = data_train_reduced[data_train_reduced.columns.difference(['income', 'gender'])].shape[1]"
   ]
  },
  {
   "cell_type": "code",
   "execution_count": 34,
   "metadata": {},
   "outputs": [],
   "source": [
    "model = Classifier(input_size, output_size)\n",
    "optimizer = torch.optim.SGD(model.parameters(), lr=3e-4)\n",
    "Neural_net_reduced = QuestionTwo(model, data_train_reduced, Epoch, criterion)"
   ]
  },
  {
   "cell_type": "code",
   "execution_count": 35,
   "metadata": {},
   "outputs": [
    {
     "name": "stdout",
     "output_type": "stream",
     "text": [
      " Epoch: 200 / 200, loss = 0.270034 \n"
     ]
    }
   ],
   "source": [
    "# Training\n",
    "Neural_net_reduced.train()"
   ]
  },
  {
   "cell_type": "code",
   "execution_count": 36,
   "metadata": {},
   "outputs": [
    {
     "data": {
      "application/vnd.jupyter.widget-view+json": {
       "model_id": "df1b2e7ffd4749a7833e846f666a4060",
       "version_major": 2,
       "version_minor": 0
      },
      "text/plain": [
       "HBox(children=(IntProgress(value=0, max=509), HTML(value='')))"
      ]
     },
     "metadata": {},
     "output_type": "display_data"
    },
    {
     "name": "stdout",
     "output_type": "stream",
     "text": [
      "\n"
     ]
    }
   ],
   "source": [
    "ahat = Neural_net_reduced.predict(data_test_reduced)"
   ]
  },
  {
   "cell_type": "code",
   "execution_count": 37,
   "metadata": {},
   "outputs": [
    {
     "data": {
      "application/vnd.jupyter.widget-view+json": {
       "model_id": "12104166c1f6458290386ca9fcad538b",
       "version_major": 2,
       "version_minor": 0
      },
      "text/plain": [
       "HBox(children=(IntProgress(value=0, max=509), HTML(value='')))"
      ]
     },
     "metadata": {},
     "output_type": "display_data"
    },
    {
     "name": "stdout",
     "output_type": "stream",
     "text": [
      "\n"
     ]
    },
    {
     "data": {
      "text/plain": [
       "0.4579571279405442"
      ]
     },
     "execution_count": 37,
     "metadata": {},
     "output_type": "execute_result"
    }
   ],
   "source": [
    "# Accuracy\n",
    "Neural_net_reduced.accuracy(data_test_reduced, 'a')"
   ]
  },
  {
   "cell_type": "code",
   "execution_count": 38,
   "metadata": {},
   "outputs": [
    {
     "data": {
      "application/vnd.jupyter.widget-view+json": {
       "model_id": "fbe7eec778ea40348e1ac20db8c5f6ff",
       "version_major": 2,
       "version_minor": 0
      },
      "text/plain": [
       "HBox(children=(IntProgress(value=0, max=509), HTML(value='')))"
      ]
     },
     "metadata": {},
     "output_type": "display_data"
    },
    {
     "name": "stdout",
     "output_type": "stream",
     "text": [
      "\n"
     ]
    },
    {
     "data": {
      "text/plain": [
       "0.5712424620439644"
      ]
     },
     "execution_count": 38,
     "metadata": {},
     "output_type": "execute_result"
    }
   ],
   "source": [
    "# Reweighted accuracy\n",
    "Neural_net_reduced.reweighted_accuracy(data_test_reduced, 'a', 'a')"
   ]
  },
  {
   "cell_type": "code",
   "execution_count": null,
   "metadata": {},
   "outputs": [],
   "source": []
  },
  {
   "cell_type": "markdown",
   "metadata": {},
   "source": [
    "Without features correlated with A"
   ]
  },
  {
   "cell_type": "code",
   "execution_count": 39,
   "metadata": {},
   "outputs": [
    {
     "data": {
      "application/vnd.jupyter.widget-view+json": {
       "model_id": "fa677a319d654c49b69f016e4f331a74",
       "version_major": 2,
       "version_minor": 0
      },
      "text/plain": [
       "HBox(children=(IntProgress(value=0, max=509), HTML(value='')))"
      ]
     },
     "metadata": {},
     "output_type": "display_data"
    },
    {
     "name": "stdout",
     "output_type": "stream",
     "text": [
      "\n"
     ]
    },
    {
     "data": {
      "text/plain": [
       "0.4612738775259505"
      ]
     },
     "execution_count": 39,
     "metadata": {},
     "output_type": "execute_result"
    }
   ],
   "source": [
    "# Accuracy on A\n",
    "Neural_net_corr.accuracy(data_test_uncorr, 'a')"
   ]
  },
  {
   "cell_type": "code",
   "execution_count": 40,
   "metadata": {},
   "outputs": [
    {
     "data": {
      "application/vnd.jupyter.widget-view+json": {
       "model_id": "db1e3913d5fb431db227b582999e4195",
       "version_major": 2,
       "version_minor": 0
      },
      "text/plain": [
       "HBox(children=(IntProgress(value=0, max=509), HTML(value='')))"
      ]
     },
     "metadata": {},
     "output_type": "display_data"
    },
    {
     "name": "stdout",
     "output_type": "stream",
     "text": [
      "\n"
     ]
    },
    {
     "data": {
      "text/plain": [
       "0.5671229951865112"
      ]
     },
     "execution_count": 40,
     "metadata": {},
     "output_type": "execute_result"
    }
   ],
   "source": [
    "# Reweighted accuracy on A\n",
    "Neural_net_corr.reweighted_accuracy(data_test_uncorr, 'a', 'a')"
   ]
  },
  {
   "cell_type": "code",
   "execution_count": null,
   "metadata": {},
   "outputs": [],
   "source": []
  },
  {
   "cell_type": "markdown",
   "metadata": {},
   "source": [
    "# Question 3"
   ]
  },
  {
   "cell_type": "markdown",
   "metadata": {},
   "source": [
    "## 1."
   ]
  },
  {
   "cell_type": "code",
   "execution_count": 41,
   "metadata": {},
   "outputs": [],
   "source": [
    "from sklearn.mixture import GaussianMixture"
   ]
  },
  {
   "cell_type": "code",
   "execution_count": 42,
   "metadata": {},
   "outputs": [],
   "source": [
    "# Preprocessing\n",
    "def preprocess(data):\n",
    "    \n",
    "    gaus0 = GaussianMixture(n_components=1, covariance_type='diag')\n",
    "    gaus1 = GaussianMixture(n_components=1, covariance_type='diag')\n",
    "    \n",
    "    data_y = data['income'].to_frame()\n",
    "    data_a = data['gender'].to_frame()\n",
    "    data_gaus = data.drop('income', axis=1)\n",
    "    data_gaus_group = data_gaus.groupby(['gender'])\n",
    "    \n",
    "    gaus0.fit(data_gaus_group.get_group(0))\n",
    "    gender_0 = data_gaus_group.get_group(0).pipe(lambda x: \\\n",
    "                                    (x - gaus0.means_) / np.sqrt(gaus0.covariances_))\n",
    "    gaus1.fit(data_gaus_group.get_group(1))\n",
    "    gender_1 = data_gaus_group.get_group(1).pipe(lambda x: \\\n",
    "                                    (x - gaus1.means_) / np.sqrt(gaus1.covariances_))\n",
    "    data_normalize = pd.concat([gender_0, gender_1], axis=0)\n",
    "    data_normalize.sort_index(inplace=True)\n",
    "    data_normalize = data_normalize.drop('gender', axis=1)\n",
    "    data_normalize = pd.concat([data_y, data_a, data_normalize], axis=1)\n",
    "    \n",
    "    return data_normalize\n"
   ]
  },
  {
   "cell_type": "code",
   "execution_count": 43,
   "metadata": {},
   "outputs": [],
   "source": [
    "data_normalize_train = preprocess(data_train)\n",
    "data_normalize_test = preprocess(data_test)"
   ]
  },
  {
   "cell_type": "code",
   "execution_count": 44,
   "metadata": {},
   "outputs": [],
   "source": [
    "input_size = data_normalize_train[data_normalize_train.columns.difference(['income', 'gender'])].shape[1]\n",
    "criterion = nn.BCEWithLogitsLoss()\n",
    "model = Classifier(input_size, output_size)\n",
    "optimizer = torch.optim.SGD(model.parameters(), lr=3e-4)"
   ]
  },
  {
   "cell_type": "code",
   "execution_count": 45,
   "metadata": {},
   "outputs": [],
   "source": [
    "Neural_net_prep = QuestionTwo(model, data_normalize_train, Epoch, criterion)"
   ]
  },
  {
   "cell_type": "code",
   "execution_count": 46,
   "metadata": {},
   "outputs": [
    {
     "name": "stdout",
     "output_type": "stream",
     "text": [
      " Epoch: 200 / 200, loss = 0.204399 \n"
     ]
    }
   ],
   "source": [
    "Neural_net_prep.train()"
   ]
  },
  {
   "cell_type": "code",
   "execution_count": 47,
   "metadata": {
    "scrolled": true
   },
   "outputs": [
    {
     "data": {
      "application/vnd.jupyter.widget-view+json": {
       "model_id": "fff0dfb336e844c594cdc0f7bcb03fc3",
       "version_major": 2,
       "version_minor": 0
      },
      "text/plain": [
       "HBox(children=(IntProgress(value=0, max=509), HTML(value='')))"
      ]
     },
     "metadata": {},
     "output_type": "display_data"
    },
    {
     "name": "stdout",
     "output_type": "stream",
     "text": [
      "\n"
     ]
    },
    {
     "data": {
      "text/plain": [
       "0.8509305325225723"
      ]
     },
     "execution_count": 47,
     "metadata": {},
     "output_type": "execute_result"
    }
   ],
   "source": [
    "# Accuracy for g\n",
    "Neural_net_prep.accuracy(data_normalize_test, 'y')"
   ]
  },
  {
   "cell_type": "code",
   "execution_count": 48,
   "metadata": {},
   "outputs": [
    {
     "data": {
      "application/vnd.jupyter.widget-view+json": {
       "model_id": "66d0240b924a4359ba1f4b087b082e2e",
       "version_major": 2,
       "version_minor": 0
      },
      "text/plain": [
       "HBox(children=(IntProgress(value=0, max=509), HTML(value='')))"
      ]
     },
     "metadata": {},
     "output_type": "display_data"
    },
    {
     "name": "stdout",
     "output_type": "stream",
     "text": [
      "\n"
     ]
    },
    {
     "data": {
      "text/plain": [
       "0.13823024028715827"
      ]
     },
     "execution_count": 48,
     "metadata": {},
     "output_type": "execute_result"
    }
   ],
   "source": [
    "# Demographic parity for g\n",
    "Neural_net_prep.fairness_metric(data_normalize_test)"
   ]
  },
  {
   "cell_type": "code",
   "execution_count": 49,
   "metadata": {},
   "outputs": [
    {
     "data": {
      "application/vnd.jupyter.widget-view+json": {
       "model_id": "dcb2d46af06f47fcb2a7f93ced401e70",
       "version_major": 2,
       "version_minor": 0
      },
      "text/plain": [
       "HBox(children=(IntProgress(value=0, max=509), HTML(value='')))"
      ]
     },
     "metadata": {},
     "output_type": "display_data"
    },
    {
     "name": "stdout",
     "output_type": "stream",
     "text": [
      "\n"
     ]
    },
    {
     "data": {
      "text/plain": [
       "0.4589398685584424"
      ]
     },
     "execution_count": 49,
     "metadata": {},
     "output_type": "execute_result"
    }
   ],
   "source": [
    "# Accuracy for h\n",
    "Neural_net_prep.accuracy(data_normalize_test, 'a')"
   ]
  },
  {
   "cell_type": "code",
   "execution_count": 50,
   "metadata": {},
   "outputs": [
    {
     "data": {
      "application/vnd.jupyter.widget-view+json": {
       "model_id": "c584f050bc0a4830bbd2a5e8cdf4c4a2",
       "version_major": 2,
       "version_minor": 0
      },
      "text/plain": [
       "HBox(children=(IntProgress(value=0, max=509), HTML(value='')))"
      ]
     },
     "metadata": {},
     "output_type": "display_data"
    },
    {
     "name": "stdout",
     "output_type": "stream",
     "text": [
      "\n"
     ]
    },
    {
     "data": {
      "text/plain": [
       "0.5691151201435791"
      ]
     },
     "execution_count": 50,
     "metadata": {},
     "output_type": "execute_result"
    }
   ],
   "source": [
    "# Reweighted accuracy for h\n",
    "Neural_net_prep.reweighted_accuracy(data_normalize_test, 'a', 'a')"
   ]
  },
  {
   "cell_type": "markdown",
   "metadata": {},
   "source": [
    "## 2."
   ]
  },
  {
   "cell_type": "code",
   "execution_count": 52,
   "metadata": {},
   "outputs": [],
   "source": [
    "from mmd import get_mmd_inds, MMD_torch"
   ]
  },
  {
   "cell_type": "code",
   "execution_count": 53,
   "metadata": {},
   "outputs": [],
   "source": [
    "class Classifier(nn.Module): \n",
    "  \n",
    "    def __init__(self, input_size, num_classes): \n",
    "        super(Classifier, self).__init__() \n",
    "        self.input_size = input_size\n",
    "        self.linear1 = nn.Linear(input_size, 100)\n",
    "        self.linear2 = nn.Linear(100, 32)\n",
    "        self.linear3 = nn.Linear(32, num_classes)\n",
    "                                \n",
    "    def forward(self, x): \n",
    "        y_pred = F.relu(self.linear1(x))\n",
    "        y_pred = self.linear2(y_pred)\n",
    "        Z = y_pred\n",
    "        y_pred = self.linear3(F.relu(y_pred))\n",
    "        return (Z, y_pred) "
   ]
  },
  {
   "cell_type": "code",
   "execution_count": 54,
   "metadata": {},
   "outputs": [],
   "source": [
    "class QuestionThree(QuestionTwo):\n",
    "    \n",
    "    def train(self, alpha):\n",
    "        train_loader = self.create_dataloader(self.data_train)\n",
    "        for epoch in range(self.epoch):\n",
    "            for X, y, a in train_loader:\n",
    "                Z, outputs = model(X)\n",
    "                loss = self.criterion(outputs.squeeze(), y.long()) + alpha * MMD_torch(Z, a)\n",
    "                predicted = (outputs.squeeze() > 0.).long()\n",
    "                model.zero_grad()\n",
    "                loss.backward()\n",
    "                optimizer.step()\n",
    "            \n",
    "            display.clear_output(wait=True)\n",
    "            print(\" Epoch: %i / %i, loss = %.6f \" %((epoch+1), self.epoch, loss.item()))\n",
    "            #print('Epoch', epoch, ':', 'loss =', loss.item())\n",
    "    \n",
    "    def predict(self, Data):\n",
    "        data_loader = self.create_dataloader(Data)\n",
    "        train_model = self.model.eval()\n",
    "        predictions = []\n",
    "        for X, y, a in tqdm_notebook(data_loader):\n",
    "            Z, outputs = train_model(X)\n",
    "            pred = outputs.argmax(dim=1, keepdim=False)\n",
    "            predictions.append(pred)\n",
    "        return torch.cat(predictions, dim=0)"
   ]
  },
  {
   "cell_type": "code",
   "execution_count": 55,
   "metadata": {
    "scrolled": true
   },
   "outputs": [],
   "source": [
    "output_size = 2\n",
    "criterion = nn.CrossEntropyLoss()\n",
    "model = Classifier(input_size, output_size)\n",
    "optimizer = torch.optim.SGD(model.parameters(), lr=3e-4)"
   ]
  },
  {
   "cell_type": "code",
   "execution_count": 56,
   "metadata": {},
   "outputs": [],
   "source": [
    "Neural_net_mmd = QuestionThree(model, data_normalize_train, Epoch, criterion)"
   ]
  },
  {
   "cell_type": "code",
   "execution_count": 57,
   "metadata": {},
   "outputs": [
    {
     "name": "stdout",
     "output_type": "stream",
     "text": [
      " Epoch: 200 / 200, loss = 0.219691 \n"
     ]
    }
   ],
   "source": [
    "Neural_net_mmd.train(0.1)"
   ]
  },
  {
   "cell_type": "code",
   "execution_count": 58,
   "metadata": {},
   "outputs": [
    {
     "data": {
      "application/vnd.jupyter.widget-view+json": {
       "model_id": "042d00f9d7ab47da904f9f70778d0bc3",
       "version_major": 2,
       "version_minor": 0
      },
      "text/plain": [
       "HBox(children=(IntProgress(value=0, max=509), HTML(value='')))"
      ]
     },
     "metadata": {},
     "output_type": "display_data"
    },
    {
     "name": "stdout",
     "output_type": "stream",
     "text": [
      "\n"
     ]
    },
    {
     "data": {
      "text/plain": [
       "0.8524046434494196"
      ]
     },
     "execution_count": 58,
     "metadata": {},
     "output_type": "execute_result"
    }
   ],
   "source": [
    "# Accuracy of y\n",
    "Neural_net_mmd.accuracy(data_normalize_test, 'y')"
   ]
  },
  {
   "cell_type": "code",
   "execution_count": 59,
   "metadata": {},
   "outputs": [
    {
     "data": {
      "application/vnd.jupyter.widget-view+json": {
       "model_id": "5e517040a2764fad91815771e7e4aade",
       "version_major": 2,
       "version_minor": 0
      },
      "text/plain": [
       "HBox(children=(IntProgress(value=0, max=509), HTML(value='')))"
      ]
     },
     "metadata": {},
     "output_type": "display_data"
    },
    {
     "name": "stdout",
     "output_type": "stream",
     "text": [
      "\n"
     ]
    },
    {
     "data": {
      "text/plain": [
       "0.14163693269778566"
      ]
     },
     "execution_count": 59,
     "metadata": {},
     "output_type": "execute_result"
    }
   ],
   "source": [
    "# Demographic parity\n",
    "Neural_net_mmd.fairness_metric(data_normalize_test)"
   ]
  },
  {
   "cell_type": "code",
   "execution_count": 60,
   "metadata": {},
   "outputs": [
    {
     "data": {
      "application/vnd.jupyter.widget-view+json": {
       "model_id": "819449aad4394136b11f352b201692c8",
       "version_major": 2,
       "version_minor": 0
      },
      "text/plain": [
       "HBox(children=(IntProgress(value=0, max=509), HTML(value='')))"
      ]
     },
     "metadata": {},
     "output_type": "display_data"
    },
    {
     "name": "stdout",
     "output_type": "stream",
     "text": [
      "\n"
     ]
    },
    {
     "data": {
      "text/plain": [
       "0.4612738775259505"
      ]
     },
     "execution_count": 60,
     "metadata": {},
     "output_type": "execute_result"
    }
   ],
   "source": [
    "# Accuracy of a\n",
    "Neural_net_mmd.accuracy(data_normalize_test, 'a')"
   ]
  },
  {
   "cell_type": "code",
   "execution_count": 61,
   "metadata": {},
   "outputs": [
    {
     "data": {
      "application/vnd.jupyter.widget-view+json": {
       "model_id": "0a54428210324e9dbd05533eea8477aa",
       "version_major": 2,
       "version_minor": 0
      },
      "text/plain": [
       "HBox(children=(IntProgress(value=0, max=509), HTML(value='')))"
      ]
     },
     "metadata": {},
     "output_type": "display_data"
    },
    {
     "name": "stdout",
     "output_type": "stream",
     "text": [
      "\n"
     ]
    },
    {
     "data": {
      "text/plain": [
       "0.5708184663488929"
      ]
     },
     "execution_count": 61,
     "metadata": {},
     "output_type": "execute_result"
    }
   ],
   "source": [
    "# Reweighted accuracy of a\n",
    "Neural_net_mmd.reweighted_accuracy(data_normalize_test, 'a', 'a')"
   ]
  },
  {
   "cell_type": "code",
   "execution_count": 62,
   "metadata": {},
   "outputs": [],
   "source": [
    "alphas = np.linspace(0.001, 5, 20)"
   ]
  },
  {
   "cell_type": "code",
   "execution_count": 63,
   "metadata": {},
   "outputs": [],
   "source": [
    "Epoch = 200\n",
    "Neural_net_mmd = QuestionThree(model, data_normalize_train, Epoch, criterion)"
   ]
  },
  {
   "cell_type": "code",
   "execution_count": 64,
   "metadata": {
    "scrolled": true
   },
   "outputs": [
    {
     "name": "stdout",
     "output_type": "stream",
     "text": [
      " Epoch: 200 / 200, loss = 0.158675 \n"
     ]
    },
    {
     "data": {
      "application/vnd.jupyter.widget-view+json": {
       "model_id": "d758fddc519e4c78865e4b5b9d1bf22b",
       "version_major": 2,
       "version_minor": 0
      },
      "text/plain": [
       "HBox(children=(IntProgress(value=0, max=509), HTML(value='')))"
      ]
     },
     "metadata": {},
     "output_type": "display_data"
    },
    {
     "name": "stdout",
     "output_type": "stream",
     "text": [
      "\n"
     ]
    },
    {
     "data": {
      "application/vnd.jupyter.widget-view+json": {
       "model_id": "024dedb6172a4eeb944eee2eff4cd982",
       "version_major": 2,
       "version_minor": 0
      },
      "text/plain": [
       "HBox(children=(IntProgress(value=0, max=509), HTML(value='')))"
      ]
     },
     "metadata": {},
     "output_type": "display_data"
    },
    {
     "name": "stdout",
     "output_type": "stream",
     "text": [
      "\n"
     ]
    },
    {
     "data": {
      "application/vnd.jupyter.widget-view+json": {
       "model_id": "65588126fadf4d1ea7996505b9258109",
       "version_major": 2,
       "version_minor": 0
      },
      "text/plain": [
       "HBox(children=(IntProgress(value=0, max=509), HTML(value='')))"
      ]
     },
     "metadata": {},
     "output_type": "display_data"
    },
    {
     "name": "stdout",
     "output_type": "stream",
     "text": [
      "\n"
     ]
    },
    {
     "data": {
      "application/vnd.jupyter.widget-view+json": {
       "model_id": "8ca2f245992043ac8c3c2d75abed3583",
       "version_major": 2,
       "version_minor": 0
      },
      "text/plain": [
       "HBox(children=(IntProgress(value=0, max=509), HTML(value='')))"
      ]
     },
     "metadata": {},
     "output_type": "display_data"
    },
    {
     "name": "stdout",
     "output_type": "stream",
     "text": [
      "\n"
     ]
    }
   ],
   "source": [
    "accuracy_Y = np.zeros_like(alphas)\n",
    "accuracy_A = np.zeros_like(alphas)\n",
    "DP = np.zeros_like(alphas)\n",
    "reweighted_accuacy = np.zeros_like(alphas)\n",
    "for alpha in range(len(alphas)):\n",
    "    Neural_net_mmd.train(alphas[alpha])\n",
    "    accuracy_Y[alpha] = Neural_net_mmd.accuracy(data_normalize_test, 'y')\n",
    "    accuracy_A[alpha] = Neural_net_mmd.accuracy(data_normalize_test, 'a')\n",
    "    DP[alpha] = Neural_net_mmd.fairness_metric(data_normalize_test)\n",
    "    reweighted_accuacy[alpha] = Neural_net_mmd.reweighted_accuracy(data_normalize_test, 'a', 'a')"
   ]
  },
  {
   "cell_type": "code",
   "execution_count": null,
   "metadata": {},
   "outputs": [],
   "source": []
  },
  {
   "cell_type": "code",
   "execution_count": 65,
   "metadata": {
    "scrolled": true
   },
   "outputs": [
    {
     "data": {
      "image/png": "[encoded data removed]",
      "text/plain": [
       "<Figure size 1296x576 with 2 Axes>"
      ]
     },
     "metadata": {
      "needs_background": "light"
     },
     "output_type": "display_data"
    }
   ],
   "source": [
    "fig, ax = plt.subplots(1,2, figsize =(18,8))\n",
    "ax[0].plot(alphas, accuracy_Y)\n",
    "ax[0].set_ylabel('accuracy', fontsize=20)\n",
    "ax[0].set_xlabel('alpha', fontsize=20)\n",
    "\n",
    "ax[1].plot(alphas, DP)\n",
    "ax[1].set_ylabel('$\\\\Delta_{DP}$', fontsize=20)\n",
    "ax[1].set_xlabel('alpha', fontsize=20)\n",
    "\n",
    "fig.suptitle('Prediction metrics', fontsize=25)\n",
    "fig.savefig('prediction_plot.png')"
   ]
  },
  {
   "cell_type": "code",
   "execution_count": null,
   "metadata": {},
   "outputs": [],
   "source": []
  }
 ],
 "metadata": {
  "kernelspec": {
   "display_name": "Python 3",
   "language": "python",
   "name": "python3"
  },
  "language_info": {
   "codemirror_mode": {
    "name": "ipython",
    "version": 3
   },
   "file_extension": ".py",
   "mimetype": "text/x-python",
   "name": "python",
   "nbconvert_exporter": "python",
   "pygments_lexer": "ipython3",
   "version": "3.6.8"
  }
 },
 "nbformat": 4,
 "nbformat_minor": 2
}
